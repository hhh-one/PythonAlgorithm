{
 "cells": [
  {
   "cell_type": "markdown",
   "id": "d127b9b9",
   "metadata": {},
   "source": [
    "## 해시(Hash)"
   ]
  },
  {
   "cell_type": "markdown",
   "id": "a94af313",
   "metadata": {},
   "source": [
    "#### 완주하지 못한 선수"
   ]
  },
  {
   "cell_type": "code",
   "execution_count": 19,
   "id": "245b775a",
   "metadata": {},
   "outputs": [],
   "source": [
    "# 풀이1. 딕셔너리 이용 -> 복잡도: O(n)\n",
    "def solution(participant, completion):\n",
    "    d = {}\n",
    "    \n",
    "    for p in participant:\n",
    "        d[p] = d.get(p, 0) + 1\n",
    "    for c in completion:\n",
    "        d[c] -= 1\n",
    "    \n",
    "    answer = [k for k, v in d.items() if v == 1]\n",
    "    return answer[0]"
   ]
  },
  {
   "cell_type": "code",
   "execution_count": 20,
   "id": "266594fb",
   "metadata": {},
   "outputs": [],
   "source": [
    "# 풀이2. 정렬 이용 -> 복잡도: O(nlogn)\n",
    "def solution(participant, completion):\n",
    "    participant.sort()\n",
    "    completion.sort()\n",
    "    \n",
    "    for i in range(len(completion)):\n",
    "        if participant[i] != completion[i]:\n",
    "            return participant[i]\n",
    "        \n",
    "    return participant[len(participant) - 1]"
   ]
  },
  {
   "cell_type": "markdown",
   "id": "9d6af4a8",
   "metadata": {},
   "source": [
    "#### 위장"
   ]
  },
  {
   "cell_type": "code",
   "execution_count": null,
   "id": "47a03cad",
   "metadata": {},
   "outputs": [],
   "source": []
  },
  {
   "cell_type": "markdown",
   "id": "7bbc68eb",
   "metadata": {},
   "source": [
    "## 탐욕법(Greedy)"
   ]
  },
  {
   "cell_type": "markdown",
   "id": "4f2de248",
   "metadata": {},
   "source": [
    "#### 체육복"
   ]
  },
  {
   "cell_type": "code",
   "execution_count": 1,
   "id": "674807f2",
   "metadata": {},
   "outputs": [],
   "source": [
    "# 풀이1. 체육복이 없는 학생 기준으로\n",
    "def solution(n, lost, reserve):\n",
    "    # 체육복(uniform) 수를 나타내는 학생 수, 앞 뒤로 한명씩 추가\n",
    "    u = [1] * (n + 2) \n",
    "    \n",
    "    for i in lost:\n",
    "        u[i] -= 1\n",
    "    for i in reserve:\n",
    "        u[i] += 1\n",
    "     \n",
    "    # 체육복이 없는 학생 기준으로 앞 -> 뒤 로 빌림\n",
    "    for i in range(1, n + 1):\n",
    "        if u[i] == 0 and u[i - 1] == 2:\n",
    "            u[i - 1:i + 1] = [1, 1]\n",
    "        elif u[i] == 0 and u[i + 1] == 2:\n",
    "            u[i:i + 2] = [1, 1]\n",
    "            \n",
    "    return len([x for x in u[1:-1] if x > 0])"
   ]
  },
  {
   "cell_type": "code",
   "execution_count": 2,
   "id": "16972953",
   "metadata": {},
   "outputs": [],
   "source": [
    "# 풀이2. 여벌 옷이 있는 학생 기준으로\n",
    "def solution(n, lost, reserve):\n",
    "    s = set(lost) & set(reserve) #여분이 있지만 잃어버린 학생\n",
    "    l = set(lost) - s            #체육복을 잃어버려 없는 학생\n",
    "    r = set(reserve) - s         #여분이 있어 빌려줄 수 있는 학생\n",
    "    \n",
    "    for x in sorted(r):\n",
    "        if x - 1 in l:\n",
    "            l.remove(x - 1)\n",
    "        elif x + 1 in l:\n",
    "            l.remove(x + 1)\n",
    "            \n",
    "    return n - len(l)"
   ]
  },
  {
   "cell_type": "markdown",
   "id": "475abccd",
   "metadata": {},
   "source": [
    "#### 큰 수 만들기"
   ]
  },
  {
   "cell_type": "code",
   "execution_count": 3,
   "id": "74b67fb6",
   "metadata": {},
   "outputs": [],
   "source": [
    "def solution(number, k):\n",
    "    collected = []\n",
    "    for i, num in enumerate(number):\n",
    "        while len(collected) > 0 and collected[-1] < num and k > 0:\n",
    "            collected.pop()\n",
    "            k -= 1\n",
    "        if k == 0: \n",
    "            collected += list(number[i:])\n",
    "            break\n",
    "        collected.append(num)\n",
    "        \n",
    "    collected = collected[:-k] if k > 0 else collected\n",
    "    answer = ''.join(collected)\n",
    "    return answer"
   ]
  },
  {
   "cell_type": "markdown",
   "id": "66f71124",
   "metadata": {},
   "source": [
    "#### 기지국 설치"
   ]
  },
  {
   "cell_type": "code",
   "execution_count": 4,
   "id": "8a06e9a0",
   "metadata": {},
   "outputs": [],
   "source": [
    "def solution(n, stations, w):\n",
    "    length = []\n",
    "    for s in stations:\n",
    "        if()\n",
    "    return answer"
   ]
  },
  {
   "cell_type": "markdown",
   "id": "b3a0f042",
   "metadata": {},
   "source": [
    "## 정렬(Sort)"
   ]
  },
  {
   "cell_type": "markdown",
   "id": "e9e1bd0e",
   "metadata": {},
   "source": [
    "#### 가장 큰 수"
   ]
  },
  {
   "cell_type": "code",
   "execution_count": 5,
   "id": "f854888d",
   "metadata": {},
   "outputs": [],
   "source": [
    "def solution(numbers):\n",
    "    numbers = [str(x) for x in numbers]\n",
    "    numbers.sort(key = lambda x : (x * 4)[:4], reverse = True) #내림차순\n",
    "    # key로 정렬\n",
    "    if numbers[0] == '0':\n",
    "        answer = '0'\n",
    "    else:\n",
    "        answer = ''.join(numbers)\n",
    "    return answer"
   ]
  },
  {
   "cell_type": "markdown",
   "id": "69a7da1f",
   "metadata": {},
   "source": [
    "#### H-Index"
   ]
  },
  {
   "cell_type": "code",
   "execution_count": 6,
   "id": "adf5cb07",
   "metadata": {},
   "outputs": [
    {
     "data": {
      "text/plain": [
       "3"
      ]
     },
     "execution_count": 6,
     "metadata": {},
     "output_type": "execute_result"
    }
   ],
   "source": [
    "def solution(citations):\n",
    "    answer = 0\n",
    "    citations.sort(reverse = True)\n",
    "    for i in range(len(citations)):\n",
    "        if citations[i] > i:\n",
    "            answer += 1\n",
    "    return answer\n",
    "solution([3, 0, 6, 1, 5])"
   ]
  },
  {
   "cell_type": "code",
   "execution_count": null,
   "id": "fa75b74d",
   "metadata": {},
   "outputs": [],
   "source": []
  }
 ],
 "metadata": {
  "kernelspec": {
   "display_name": "Python 3 (ipykernel)",
   "language": "python",
   "name": "python3"
  },
  "language_info": {
   "codemirror_mode": {
    "name": "ipython",
    "version": 3
   },
   "file_extension": ".py",
   "mimetype": "text/x-python",
   "name": "python",
   "nbconvert_exporter": "python",
   "pygments_lexer": "ipython3",
   "version": "3.9.12"
  }
 },
 "nbformat": 4,
 "nbformat_minor": 5
}
