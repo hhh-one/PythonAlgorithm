{
 "cells": [
  {
   "cell_type": "markdown",
   "id": "d127b9b9",
   "metadata": {},
   "source": [
    "## 해시(Hash)"
   ]
  },
  {
   "cell_type": "markdown",
   "id": "a94af313",
   "metadata": {},
   "source": [
    "#### 완주하지 못한 선수"
   ]
  },
  {
   "cell_type": "code",
   "execution_count": 19,
   "id": "245b775a",
   "metadata": {},
   "outputs": [],
   "source": [
    "# 풀이1. 딕셔너리 이용 -> 복잡도: O(n)\n",
    "def solution(participant, completion):\n",
    "    d = {}\n",
    "    \n",
    "    for p in participant:\n",
    "        d[p] = d.get(p, 0) + 1\n",
    "    for c in completion:\n",
    "        d[c] -= 1\n",
    "    \n",
    "    answer = [k for k, v in d.items() if v == 1]\n",
    "    return answer[0]"
   ]
  },
  {
   "cell_type": "code",
   "execution_count": 20,
   "id": "266594fb",
   "metadata": {},
   "outputs": [],
   "source": [
    "# 풀이2. 정렬 이용 -> 복잡도: O(nlogn)\n",
    "def solution(participant, completion):\n",
    "    participant.sort()\n",
    "    completion.sort()\n",
    "    \n",
    "    for i in range(len(completion)):\n",
    "        if participant[i] != completion[i]:\n",
    "            return participant[i]\n",
    "        \n",
    "    return participant[len(participant) - 1]"
   ]
  },
  {
   "cell_type": "markdown",
   "id": "9d6af4a8",
   "metadata": {},
   "source": [
    "#### 위장"
   ]
  },
  {
   "cell_type": "code",
   "execution_count": 2,
   "id": "47a03cad",
   "metadata": {},
   "outputs": [
    {
     "data": {
      "text/plain": [
       "5"
      ]
     },
     "execution_count": 2,
     "metadata": {},
     "output_type": "execute_result"
    }
   ],
   "source": [
    "def solution(clothes):\n",
    "    answer = 1\n",
    "    d = {}\n",
    "    \n",
    "    for x in clothes:\n",
    "        d[x[1]] = d.get(x[1], 1) + 1 # 안 입는 경우 포함해야 하므로 초깃값 1로 설정\n",
    "        \n",
    "    for i in d.values():\n",
    "        answer *= i\n",
    "    return answer-1 # 모두 안 입는 경우 제외\n",
    "solution([[\"yellow_hat\", \"headgear\"], [\"blue_sunglasses\", \"eyewear\"], [\"green_turban\", \"headgear\"]])"
   ]
  },
  {
   "cell_type": "markdown",
   "id": "7bbc68eb",
   "metadata": {},
   "source": [
    "## 탐욕법(Greedy)"
   ]
  },
  {
   "cell_type": "markdown",
   "id": "4f2de248",
   "metadata": {},
   "source": [
    "#### 체육복"
   ]
  },
  {
   "cell_type": "code",
   "execution_count": 1,
   "id": "674807f2",
   "metadata": {},
   "outputs": [],
   "source": [
    "# 풀이1. 체육복이 없는 학생 기준으로\n",
    "def solution(n, lost, reserve):\n",
    "    # 체육복(uniform) 수를 나타내는 학생 수, 앞 뒤로 한명씩 추가\n",
    "    u = [1] * (n + 2) \n",
    "    \n",
    "    for i in lost:\n",
    "        u[i] -= 1\n",
    "    for i in reserve:\n",
    "        u[i] += 1\n",
    "     \n",
    "    # 체육복이 없는 학생 기준으로 앞 -> 뒤 로 빌림\n",
    "    for i in range(1, n + 1):\n",
    "        if u[i] == 0 and u[i - 1] == 2:\n",
    "            u[i - 1:i + 1] = [1, 1]\n",
    "        elif u[i] == 0 and u[i + 1] == 2:\n",
    "            u[i:i + 2] = [1, 1]\n",
    "            \n",
    "    return len([x for x in u[1:-1] if x > 0])"
   ]
  },
  {
   "cell_type": "code",
   "execution_count": 2,
   "id": "16972953",
   "metadata": {},
   "outputs": [],
   "source": [
    "# 풀이2. 여벌 옷이 있는 학생 기준으로\n",
    "def solution(n, lost, reserve):\n",
    "    s = set(lost) & set(reserve) #여분이 있지만 잃어버린 학생\n",
    "    l = set(lost) - s            #체육복을 잃어버려 없는 학생\n",
    "    r = set(reserve) - s         #여분이 있어 빌려줄 수 있는 학생\n",
    "    \n",
    "    for x in sorted(r):\n",
    "        if x - 1 in l:\n",
    "            l.remove(x - 1)\n",
    "        elif x + 1 in l:\n",
    "            l.remove(x + 1)\n",
    "            \n",
    "    return n - len(l)"
   ]
  },
  {
   "cell_type": "markdown",
   "id": "475abccd",
   "metadata": {},
   "source": [
    "#### 큰 수 만들기"
   ]
  },
  {
   "cell_type": "code",
   "execution_count": 3,
   "id": "74b67fb6",
   "metadata": {},
   "outputs": [],
   "source": [
    "def solution(number, k):\n",
    "    collected = []\n",
    "    for i, num in enumerate(number):\n",
    "        while len(collected) > 0 and collected[-1] < num and k > 0:\n",
    "            collected.pop()\n",
    "            k -= 1\n",
    "        if k == 0: \n",
    "            collected += list(number[i:])\n",
    "            break\n",
    "        collected.append(num)\n",
    "        \n",
    "    collected = collected[:-k] if k > 0 else collected\n",
    "    answer = ''.join(collected)\n",
    "    return answer"
   ]
  },
  {
   "cell_type": "markdown",
   "id": "66f71124",
   "metadata": {},
   "source": [
    "#### 기지국 설치"
   ]
  },
  {
   "cell_type": "code",
   "execution_count": 4,
   "id": "8a06e9a0",
   "metadata": {},
   "outputs": [],
   "source": [
    "def solution(n, stations, w):\n",
    "    length = []\n",
    "    for s in stations:\n",
    "        if()\n",
    "    return answer"
   ]
  },
  {
   "cell_type": "markdown",
   "id": "b3a0f042",
   "metadata": {},
   "source": [
    "## 정렬(Sort)"
   ]
  },
  {
   "cell_type": "markdown",
   "id": "e9e1bd0e",
   "metadata": {},
   "source": [
    "#### 가장 큰 수"
   ]
  },
  {
   "cell_type": "code",
   "execution_count": 5,
   "id": "f854888d",
   "metadata": {},
   "outputs": [],
   "source": [
    "def solution(numbers):\n",
    "    numbers = [str(x) for x in numbers]\n",
    "    numbers.sort(key = lambda x : (x * 4)[:4], reverse = True) #내림차순\n",
    "    # key로 정렬\n",
    "    if numbers[0] == '0':\n",
    "        answer = '0'\n",
    "    else:\n",
    "        answer = ''.join(numbers)\n",
    "    return answer"
   ]
  },
  {
   "cell_type": "markdown",
   "id": "69a7da1f",
   "metadata": {},
   "source": [
    "#### H-Index"
   ]
  },
  {
   "cell_type": "code",
   "execution_count": 6,
   "id": "adf5cb07",
   "metadata": {},
   "outputs": [
    {
     "data": {
      "text/plain": [
       "3"
      ]
     },
     "execution_count": 6,
     "metadata": {},
     "output_type": "execute_result"
    }
   ],
   "source": [
    "def solution(citations):\n",
    "    answer = 0\n",
    "    citations.sort(reverse = True)\n",
    "    for i in range(len(citations)):\n",
    "        if citations[i] > i:\n",
    "            answer += 1\n",
    "    return answer\n",
    "solution([3, 0, 6, 1, 5])"
   ]
  },
  {
   "cell_type": "code",
   "execution_count": null,
   "id": "fa75b74d",
   "metadata": {},
   "outputs": [],
   "source": []
  },
  {
   "cell_type": "markdown",
   "id": "8b19a6e8",
   "metadata": {},
   "source": [
    "## 힙(Heap)\n",
    "### 최대 / 최소 원소를 빠르게 찾을 수 있다."
   ]
  },
  {
   "cell_type": "markdown",
   "id": "9c5b1adf",
   "metadata": {},
   "source": [
    "#### 더 맵게"
   ]
  },
  {
   "cell_type": "code",
   "execution_count": 1,
   "id": "3b347950",
   "metadata": {},
   "outputs": [],
   "source": [
    "import heapq\n",
    "\n",
    "def solution(scoville, K):\n",
    "    answer = 0 \n",
    "    heapq.heapify(scoville) # minheap 으로 구성\n",
    "    \n",
    "    while True:\n",
    "        min1 = heapq.heappop(scoville) # 가장 작은 원소\n",
    "        if min1 >= K:\n",
    "            break\n",
    "        elif len(scoville) == 0:\n",
    "            answer = -1\n",
    "            break\n",
    "        min2 = heapq.heappop(scoville) # 두 번째로 작은 원소\n",
    "        new_scoville = min1 + 2 * min2\n",
    "        heapq.heappush(scoville, new_scoville) # 새로운 원소 추가\n",
    "        answer += 1\n",
    "        \n",
    "    return answer"
   ]
  },
  {
   "cell_type": "markdown",
   "id": "c35dda40",
   "metadata": {},
   "source": [
    "#### 이중우선순위큐"
   ]
  },
  {
   "cell_type": "code",
   "execution_count": 16,
   "id": "8f027c56",
   "metadata": {},
   "outputs": [
    {
     "data": {
      "text/plain": [
       "[333, -45]"
      ]
     },
     "execution_count": 16,
     "metadata": {},
     "output_type": "execute_result"
    }
   ],
   "source": [
    "import heapq\n",
    "\n",
    "def solution(operations):\n",
    "    answer = []\n",
    "    q = []\n",
    "    heapq.heapify(q)\n",
    "    \n",
    "    for x in operations:\n",
    "        x = x.split()\n",
    "        if x[0] == 'I': # 큐에 원소 추가\n",
    "            heapq.heappush(q, int(x[1]))\n",
    "            \n",
    "        elif x[0] == 'D':\n",
    "            if len(q) == 0: # 빈 큐일 때 삭제 연산 무시\n",
    "                continue \n",
    "            if x[1] == '1': # 가장 큰 값 삭제\n",
    "                q = heapq.nlargest(len(q), q)[1:]\n",
    "                heapq.heapify(q)\n",
    "            else: # 작은 값 삭제\n",
    "                heapq.heappop(q)\n",
    "    if len(q) == 0:\n",
    "        answer = [0, 0]\n",
    "    else:\n",
    "        answer.append(heapq.nlargest(len(q), q)[0])\n",
    "        heapq.heapify(q)\n",
    "        answer.append(heapq.heappop(q))\n",
    "    return answer\n",
    "solution([\"I -45\", \"I 653\", \"D 1\", \"I -642\", \"I 45\", \"I 97\", \"D 1\", \"D -1\", \"I 333\"])"
   ]
  },
  {
   "cell_type": "markdown",
   "id": "1887568e",
   "metadata": {},
   "source": [
    "## 동적계획법(Dynamic Programming)\n",
    "### 문제의 성질에 따라 탐색해야 하는 범위를 효과적으로 줄일 수 있음"
   ]
  },
  {
   "cell_type": "markdown",
   "id": "52985882",
   "metadata": {},
   "source": [
    ": 주어진 최적화 문제를 재귀적인 방식으로 보다 작은 부분 문제로 나누어 부분 문제를 풀어, 이 해를 조합하여 전체 문제의 해답에 이르는 방식\n",
    "\n",
    "- 알고리즘의 진행에 따라 탐색해야 할 범위를 동적으로 결정함으로써 탐색 범위를 한정할 수 있음"
   ]
  },
  {
   "cell_type": "markdown",
   "id": "b7655f10",
   "metadata": {},
   "source": [
    "### 동적 계획법의 적용 예)\n",
    "#### 피보나치 수열 \n",
    "- 재귀 함수로 구현한다면? -> 복잡도 : 지수 형태\n",
    " \n",
    " f(4) = f(3) + f(2)\n",
    "      = f(2) + f(1) + f(1) + f(0)\n",
    "      = f(2) + f(0) + f(1) + f(1) + f(0)\n",
    "      \n",
    "- 동적계획법을 적용한다면? -> 복잡도 : 선형함수 형태\n",
    "\n",
    "f(0) = 0, f(1) = 1\n",
    "f(2) = f(1) + f(0) = 1\n",
    "f(3) = f(2) + f(1) = 2\n",
    "f(4) = f(3) + f(2) = 3\n",
    "\n",
    "#### Knapsack Problem\n",
    "- 값과 가격이 다른 것 중 가장 높은 값을 가지도록 물건들을 골라 배낭에 담는 것"
   ]
  },
  {
   "cell_type": "markdown",
   "id": "075c0958",
   "metadata": {},
   "source": [
    "#### N으로 표현"
   ]
  },
  {
   "cell_type": "code",
   "execution_count": 3,
   "id": "14798b1b",
   "metadata": {},
   "outputs": [],
   "source": [
    "def solution(N, number):\n",
    "    s = [set() for x in range(8)] #[] * 8로 하면 안됨\n",
    "    for i, x in enumerate(s, start=1):\n",
    "        x.add(int(str(N) * i))\n",
    "    for i in range(len(s)):\n",
    "        for j in range(i):\n",
    "            for op1 in s[j]:\n",
    "                for op2 in s[i-j-1]:\n",
    "                    s[i].add(op1 + op2)\n",
    "                    s[i].add(op1 - op2)\n",
    "                    s[i].add(op1 * op2)\n",
    "                    if op2 != 0:\n",
    "                        s[i].add(op1 // op2)\n",
    "        if number in s[i]:\n",
    "            answer = i + 1\n",
    "            break\n",
    "    else:\n",
    "        answer = -1\n",
    "        \n",
    "    return answer"
   ]
  },
  {
   "cell_type": "markdown",
   "id": "9cff8be6",
   "metadata": {},
   "source": [
    "#### 가장 긴 팰린드롬(palindrome)"
   ]
  },
  {
   "cell_type": "code",
   "execution_count": 26,
   "id": "ee18f833",
   "metadata": {},
   "outputs": [
    {
     "data": {
      "text/plain": [
       "7"
      ]
     },
     "execution_count": 26,
     "metadata": {},
     "output_type": "execute_result"
    }
   ],
   "source": [
    "def solution(s):\n",
    "    answer = 0\n",
    "    for i in range(len(s)):\n",
    "        for j in range(len(s)-1, i, -1):\n",
    "            if s[i:j] == s[j:i:-1]:\n",
    "                answer = max(answer, len(s[i:j+1]))\n",
    "                                \n",
    "    return answer\n",
    "solution(\"abcdcba\")"
   ]
  },
  {
   "cell_type": "code",
   "execution_count": 29,
   "id": "91fcd0c0",
   "metadata": {},
   "outputs": [
    {
     "name": "stdout",
     "output_type": "stream",
     "text": [
      "6\n"
     ]
    }
   ],
   "source": [
    "answer = 0\n",
    "s = \"abccba\"\n",
    "if s[0:5] == s[5:0:-1]"
   ]
  },
  {
   "cell_type": "code",
   "execution_count": 27,
   "id": "bff6a85c",
   "metadata": {},
   "outputs": [
    {
     "name": "stdout",
     "output_type": "stream",
     "text": [
      "6\n",
      "4\n",
      "2\n",
      "2\n"
     ]
    }
   ],
   "source": [
    "answer = 0\n",
    "s = \"abccba\"\n",
    "for i in range(len(s)):\n",
    "        for j in range(len(s)-1, i, -1):\n",
    "            if s[i:j] == s[j:i:-1]:\n",
    "                answer = len(s[i:j+1])\n",
    "                print(answer)\n",
    "print(answer)"
   ]
  },
  {
   "cell_type": "code",
   "execution_count": null,
   "id": "943b485f",
   "metadata": {},
   "outputs": [],
   "source": []
  }
 ],
 "metadata": {
  "kernelspec": {
   "display_name": "Python 3 (ipykernel)",
   "language": "python",
   "name": "python3"
  },
  "language_info": {
   "codemirror_mode": {
    "name": "ipython",
    "version": 3
   },
   "file_extension": ".py",
   "mimetype": "text/x-python",
   "name": "python",
   "nbconvert_exporter": "python",
   "pygments_lexer": "ipython3",
   "version": "3.9.12"
  }
 },
 "nbformat": 4,
 "nbformat_minor": 5
}
